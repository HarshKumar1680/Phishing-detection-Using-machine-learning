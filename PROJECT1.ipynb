{
 "cells": [
  {
   "cell_type": "code",
   "execution_count": 119,
   "metadata": {},
   "outputs": [],
   "source": [
    "import pandas as pd\n",
    "import numpy as np\n",
    "import seaborn as sns\n",
    "import matplotlib.pyplot as plt\n",
    "from sklearn.metrics import roc_auc_score\n",
    "\n",
    "from sklearn.preprocessing import StandardScaler, LabelEncoder\n",
    "\n",
    "from sklearn.model_selection import train_test_split, cross_val_score, GridSearchCV\n",
    "from sklearn.metrics import (\n",
    "    classification_report,\n",
    "    confusion_matrix,\n",
    "    accuracy_score,\n",
    "    f1_score,\n",
    "    roc_auc_score,\n",
    "    precision_recall_curve,\n",
    "    auc\n",
    ")\n",
    "\n",
    "from sklearn.ensemble import RandomForestClassifier\n",
    "from sklearn.svm import SVC\n",
    "from sklearn.linear_model import LogisticRegression\n",
    "\n",
    "from imblearn.over_sampling import SMOTE\n",
    "\n",
    "\n",
    "import joblib\n",
    "\n",
    "from sklearn.datasets import fetch_openml\n"
   ]
  },
  {
   "cell_type": "markdown",
   "metadata": {},
   "source": [
    "# **Load the Dataset**"
   ]
  },
  {
   "cell_type": "code",
   "execution_count": 120,
   "metadata": {},
   "outputs": [],
   "source": [
    "\n",
    "\n",
    "df = pd.read_csv('phishing_url_website.csv')"
   ]
  },
  {
   "cell_type": "code",
   "execution_count": 121,
   "metadata": {},
   "outputs": [
    {
     "data": {
      "text/html": [
       "<div>\n",
       "<style scoped>\n",
       "    .dataframe tbody tr th:only-of-type {\n",
       "        vertical-align: middle;\n",
       "    }\n",
       "\n",
       "    .dataframe tbody tr th {\n",
       "        vertical-align: top;\n",
       "    }\n",
       "\n",
       "    .dataframe thead th {\n",
       "        text-align: right;\n",
       "    }\n",
       "</style>\n",
       "<table border=\"1\" class=\"dataframe\">\n",
       "  <thead>\n",
       "    <tr style=\"text-align: right;\">\n",
       "      <th></th>\n",
       "      <th>URL</th>\n",
       "      <th>Domain</th>\n",
       "      <th>TLD</th>\n",
       "      <th>URLSimilarityIndex</th>\n",
       "      <th>NoOfOtherSpecialCharsInURL</th>\n",
       "      <th>SpacialCharRatioInURL</th>\n",
       "      <th>IsHTTPS</th>\n",
       "      <th>LineOfCode</th>\n",
       "      <th>Title</th>\n",
       "      <th>DomainTitleMatchScore</th>\n",
       "      <th>URLTitleMatchScore</th>\n",
       "      <th>IsResponsive</th>\n",
       "      <th>HasDescription</th>\n",
       "      <th>HasSocialNet</th>\n",
       "      <th>HasSubmitButton</th>\n",
       "      <th>HasCopyrightInfo</th>\n",
       "      <th>NoOfImage</th>\n",
       "      <th>NoOfJS</th>\n",
       "      <th>NoOfSelfRef</th>\n",
       "      <th>label</th>\n",
       "    </tr>\n",
       "  </thead>\n",
       "  <tbody>\n",
       "    <tr>\n",
       "      <th>0</th>\n",
       "      <td>https://www.southbankmosaics.com</td>\n",
       "      <td>www.southbankmosaics.com</td>\n",
       "      <td>com</td>\n",
       "      <td>100.0</td>\n",
       "      <td>1</td>\n",
       "      <td>0.032</td>\n",
       "      <td>1</td>\n",
       "      <td>558</td>\n",
       "      <td>à¸‚à¹ˆà¸²à¸§à¸ªà¸” à¸‚à¹ˆà¸²à¸§à¸§à¸±à¸™à¸™à¸µ...</td>\n",
       "      <td>0.000000</td>\n",
       "      <td>0.000000</td>\n",
       "      <td>1</td>\n",
       "      <td>0</td>\n",
       "      <td>0</td>\n",
       "      <td>1</td>\n",
       "      <td>1</td>\n",
       "      <td>34</td>\n",
       "      <td>28</td>\n",
       "      <td>119</td>\n",
       "      <td>1</td>\n",
       "    </tr>\n",
       "    <tr>\n",
       "      <th>1</th>\n",
       "      <td>https://www.uni-mainz.de</td>\n",
       "      <td>www.uni-mainz.de</td>\n",
       "      <td>de</td>\n",
       "      <td>100.0</td>\n",
       "      <td>2</td>\n",
       "      <td>0.087</td>\n",
       "      <td>1</td>\n",
       "      <td>618</td>\n",
       "      <td>johannes gutenberg-universitÃ¤t mainz</td>\n",
       "      <td>55.555556</td>\n",
       "      <td>55.555556</td>\n",
       "      <td>0</td>\n",
       "      <td>0</td>\n",
       "      <td>1</td>\n",
       "      <td>1</td>\n",
       "      <td>1</td>\n",
       "      <td>50</td>\n",
       "      <td>8</td>\n",
       "      <td>39</td>\n",
       "      <td>1</td>\n",
       "    </tr>\n",
       "    <tr>\n",
       "      <th>2</th>\n",
       "      <td>https://www.voicefmradio.co.uk</td>\n",
       "      <td>www.voicefmradio.co.uk</td>\n",
       "      <td>uk</td>\n",
       "      <td>100.0</td>\n",
       "      <td>2</td>\n",
       "      <td>0.069</td>\n",
       "      <td>1</td>\n",
       "      <td>467</td>\n",
       "      <td>voice fm southampton</td>\n",
       "      <td>46.666667</td>\n",
       "      <td>46.666667</td>\n",
       "      <td>1</td>\n",
       "      <td>1</td>\n",
       "      <td>0</td>\n",
       "      <td>1</td>\n",
       "      <td>1</td>\n",
       "      <td>10</td>\n",
       "      <td>7</td>\n",
       "      <td>42</td>\n",
       "      <td>1</td>\n",
       "    </tr>\n",
       "    <tr>\n",
       "      <th>3</th>\n",
       "      <td>https://www.globalreporting.org</td>\n",
       "      <td>www.globalreporting.org</td>\n",
       "      <td>org</td>\n",
       "      <td>100.0</td>\n",
       "      <td>1</td>\n",
       "      <td>0.033</td>\n",
       "      <td>1</td>\n",
       "      <td>1210</td>\n",
       "      <td>gri - home</td>\n",
       "      <td>0.000000</td>\n",
       "      <td>0.000000</td>\n",
       "      <td>1</td>\n",
       "      <td>1</td>\n",
       "      <td>1</td>\n",
       "      <td>0</td>\n",
       "      <td>1</td>\n",
       "      <td>35</td>\n",
       "      <td>11</td>\n",
       "      <td>86</td>\n",
       "      <td>1</td>\n",
       "    </tr>\n",
       "    <tr>\n",
       "      <th>4</th>\n",
       "      <td>https://www.nerdscandy.com</td>\n",
       "      <td>www.nerdscandy.com</td>\n",
       "      <td>com</td>\n",
       "      <td>100.0</td>\n",
       "      <td>1</td>\n",
       "      <td>0.040</td>\n",
       "      <td>1</td>\n",
       "      <td>514</td>\n",
       "      <td>nerds candy</td>\n",
       "      <td>100.000000</td>\n",
       "      <td>100.000000</td>\n",
       "      <td>1</td>\n",
       "      <td>1</td>\n",
       "      <td>1</td>\n",
       "      <td>1</td>\n",
       "      <td>1</td>\n",
       "      <td>24</td>\n",
       "      <td>22</td>\n",
       "      <td>36</td>\n",
       "      <td>1</td>\n",
       "    </tr>\n",
       "  </tbody>\n",
       "</table>\n",
       "</div>"
      ],
      "text/plain": [
       "                                URL                    Domain  TLD  \\\n",
       "0  https://www.southbankmosaics.com  www.southbankmosaics.com  com   \n",
       "1          https://www.uni-mainz.de          www.uni-mainz.de   de   \n",
       "2    https://www.voicefmradio.co.uk    www.voicefmradio.co.uk   uk   \n",
       "3   https://www.globalreporting.org   www.globalreporting.org  org   \n",
       "4        https://www.nerdscandy.com        www.nerdscandy.com  com   \n",
       "\n",
       "   URLSimilarityIndex  NoOfOtherSpecialCharsInURL  SpacialCharRatioInURL  \\\n",
       "0               100.0                           1                  0.032   \n",
       "1               100.0                           2                  0.087   \n",
       "2               100.0                           2                  0.069   \n",
       "3               100.0                           1                  0.033   \n",
       "4               100.0                           1                  0.040   \n",
       "\n",
       "   IsHTTPS  LineOfCode                                              Title  \\\n",
       "0        1         558  à¸‚à¹ˆà¸²à¸§à¸ªà¸” à¸‚à¹ˆà¸²à¸§à¸§à¸±à¸™à¸™à¸µ...   \n",
       "1        1         618              johannes gutenberg-universitÃ¤t mainz   \n",
       "2        1         467                               voice fm southampton   \n",
       "3        1        1210                                         gri - home   \n",
       "4        1         514                                        nerds candy   \n",
       "\n",
       "   DomainTitleMatchScore  URLTitleMatchScore  IsResponsive  HasDescription  \\\n",
       "0               0.000000            0.000000             1               0   \n",
       "1              55.555556           55.555556             0               0   \n",
       "2              46.666667           46.666667             1               1   \n",
       "3               0.000000            0.000000             1               1   \n",
       "4             100.000000          100.000000             1               1   \n",
       "\n",
       "   HasSocialNet  HasSubmitButton  HasCopyrightInfo  NoOfImage  NoOfJS  \\\n",
       "0             0                1                 1         34      28   \n",
       "1             1                1                 1         50       8   \n",
       "2             0                1                 1         10       7   \n",
       "3             1                0                 1         35      11   \n",
       "4             1                1                 1         24      22   \n",
       "\n",
       "   NoOfSelfRef  label  \n",
       "0          119      1  \n",
       "1           39      1  \n",
       "2           42      1  \n",
       "3           86      1  \n",
       "4           36      1  "
      ]
     },
     "execution_count": 121,
     "metadata": {},
     "output_type": "execute_result"
    }
   ],
   "source": [
    "df.head()"
   ]
  },
  {
   "cell_type": "markdown",
   "metadata": {},
   "source": [
    "# **Understand the Data**"
   ]
  },
  {
   "cell_type": "code",
   "execution_count": 122,
   "metadata": {},
   "outputs": [
    {
     "name": "stdout",
     "output_type": "stream",
     "text": [
      "<class 'pandas.core.frame.DataFrame'>\n",
      "RangeIndex: 176262 entries, 0 to 176261\n",
      "Data columns (total 20 columns):\n",
      " #   Column                      Non-Null Count   Dtype  \n",
      "---  ------                      --------------   -----  \n",
      " 0   URL                         176262 non-null  object \n",
      " 1   Domain                      176262 non-null  object \n",
      " 2   TLD                         176262 non-null  object \n",
      " 3   URLSimilarityIndex          176262 non-null  float64\n",
      " 4   NoOfOtherSpecialCharsInURL  176262 non-null  int64  \n",
      " 5   SpacialCharRatioInURL       176262 non-null  float64\n",
      " 6   IsHTTPS                     176262 non-null  int64  \n",
      " 7   LineOfCode                  176262 non-null  int64  \n",
      " 8   Title                       176262 non-null  object \n",
      " 9   DomainTitleMatchScore       176262 non-null  float64\n",
      " 10  URLTitleMatchScore          176262 non-null  float64\n",
      " 11  IsResponsive                176262 non-null  int64  \n",
      " 12  HasDescription              176262 non-null  int64  \n",
      " 13  HasSocialNet                176262 non-null  int64  \n",
      " 14  HasSubmitButton             176262 non-null  int64  \n",
      " 15  HasCopyrightInfo            176262 non-null  int64  \n",
      " 16  NoOfImage                   176262 non-null  int64  \n",
      " 17  NoOfJS                      176262 non-null  int64  \n",
      " 18  NoOfSelfRef                 176262 non-null  int64  \n",
      " 19  label                       176262 non-null  int64  \n",
      "dtypes: float64(4), int64(12), object(4)\n",
      "memory usage: 26.9+ MB\n",
      "None\n"
     ]
    }
   ],
   "source": [
    "print(df.info())    "
   ]
  },
  {
   "cell_type": "code",
   "execution_count": 123,
   "metadata": {},
   "outputs": [
    {
     "name": "stdout",
     "output_type": "stream",
     "text": [
      "       URLSimilarityIndex  NoOfOtherSpecialCharsInURL  SpacialCharRatioInURL  \\\n",
      "count       176262.000000               176262.000000          176262.000000   \n",
      "mean            81.888863                    1.906395               0.060528   \n",
      "std             25.176279                    1.513070               0.029009   \n",
      "min              5.206704                    1.000000               0.018000   \n",
      "25%             63.706267                    1.000000               0.038000   \n",
      "50%            100.000000                    1.000000               0.048000   \n",
      "75%            100.000000                    2.000000               0.080000   \n",
      "max            100.000000                   12.000000               0.160000   \n",
      "\n",
      "             IsHTTPS     LineOfCode  DomainTitleMatchScore  \\\n",
      "count  176262.000000  176262.000000          176262.000000   \n",
      "mean        0.790437     841.568909              51.784938   \n",
      "std         0.406998    1257.005436              49.665737   \n",
      "min         0.000000       2.000000               0.000000   \n",
      "25%         1.000000      25.000000               0.000000   \n",
      "50%         1.000000     418.000000             100.000000   \n",
      "75%         1.000000    1117.000000             100.000000   \n",
      "max         1.000000   11400.000000             100.000000   \n",
      "\n",
      "       URLTitleMatchScore   IsResponsive  HasDescription   HasSocialNet  \\\n",
      "count       176262.000000  176262.000000   176262.000000  176262.000000   \n",
      "mean            53.750502       0.633784        0.447136       0.461631   \n",
      "std             49.525475       0.481771        0.497199       0.498527   \n",
      "min              0.000000       0.000000        0.000000       0.000000   \n",
      "25%              0.000000       0.000000        0.000000       0.000000   \n",
      "50%            100.000000       1.000000        0.000000       0.000000   \n",
      "75%            100.000000       1.000000        1.000000       1.000000   \n",
      "max            100.000000       1.000000        1.000000       1.000000   \n",
      "\n",
      "       HasSubmitButton  HasCopyrightInfo      NoOfImage         NoOfJS  \\\n",
      "count    176262.000000     176262.000000  176262.000000  176262.000000   \n",
      "mean          0.386788          0.486009      19.612026       9.449927   \n",
      "std           0.487016          0.499806      30.248986      12.019118   \n",
      "min           0.000000          0.000000       0.000000       0.000000   \n",
      "25%           0.000000          0.000000       0.000000       0.000000   \n",
      "50%           0.000000          0.000000       9.000000       6.000000   \n",
      "75%           1.000000          1.000000      27.000000      14.000000   \n",
      "max           1.000000          1.000000     264.000000      77.000000   \n",
      "\n",
      "         NoOfSelfRef          label  \n",
      "count  176262.000000  176262.000000  \n",
      "mean       53.554306       0.591307  \n",
      "std        80.136652       0.491594  \n",
      "min         0.000000       0.000000  \n",
      "25%         0.000000       0.000000  \n",
      "50%        14.000000       1.000000  \n",
      "75%        81.000000       1.000000  \n",
      "max       595.000000       1.000000  \n"
     ]
    }
   ],
   "source": [
    "\n",
    "print(df.describe()) "
   ]
  },
  {
   "cell_type": "code",
   "execution_count": 124,
   "metadata": {},
   "outputs": [
    {
     "name": "stdout",
     "output_type": "stream",
     "text": [
      "(176262, 20)\n"
     ]
    }
   ],
   "source": [
    "print(df.shape)"
   ]
  },
  {
   "cell_type": "code",
   "execution_count": 125,
   "metadata": {},
   "outputs": [
    {
     "name": "stdout",
     "output_type": "stream",
     "text": [
      "URL                           0\n",
      "Domain                        0\n",
      "TLD                           0\n",
      "URLSimilarityIndex            0\n",
      "NoOfOtherSpecialCharsInURL    0\n",
      "SpacialCharRatioInURL         0\n",
      "IsHTTPS                       0\n",
      "LineOfCode                    0\n",
      "Title                         0\n",
      "DomainTitleMatchScore         0\n",
      "URLTitleMatchScore            0\n",
      "IsResponsive                  0\n",
      "HasDescription                0\n",
      "HasSocialNet                  0\n",
      "HasSubmitButton               0\n",
      "HasCopyrightInfo              0\n",
      "NoOfImage                     0\n",
      "NoOfJS                        0\n",
      "NoOfSelfRef                   0\n",
      "label                         0\n",
      "dtype: int64\n"
     ]
    }
   ],
   "source": [
    "print(df.isnull().sum())"
   ]
  },
  {
   "cell_type": "code",
   "execution_count": 126,
   "metadata": {},
   "outputs": [],
   "source": [
    "df_cleaned = df.dropna()"
   ]
  },
  {
   "cell_type": "markdown",
   "metadata": {},
   "source": [
    "# **Visulize Target Variable**"
   ]
  },
  {
   "cell_type": "code",
   "execution_count": 127,
   "metadata": {},
   "outputs": [
    {
     "data": {
      "image/png": "[encoded data removed]",
      "text/plain": [
       "<Figure size 640x480 with 1 Axes>"
      ]
     },
     "metadata": {},
     "output_type": "display_data"
    }
   ],
   "source": [
    "sns.countplot(x='label', data=df)\n",
    "plt.title('Distribution of Target Variable')\n",
    "plt.show()"
   ]
  },
  {
   "cell_type": "markdown",
   "metadata": {},
   "source": [
    "# **Examine Features**"
   ]
  },
  {
   "cell_type": "code",
   "execution_count": 128,
   "metadata": {},
   "outputs": [
    {
     "name": "stdout",
     "output_type": "stream",
     "text": [
      "  having_IP_Address URL_Length Shortining_Service having_At_Symbol  \\\n",
      "0                -1          1                  1                1   \n",
      "1                 1          1                  1                1   \n",
      "2                 1          0                  1                1   \n",
      "3                 1          0                  1                1   \n",
      "4                 1          0                 -1                1   \n",
      "\n",
      "  double_slash_redirecting Prefix_Suffix having_Sub_Domain SSLfinal_State  \\\n",
      "0                       -1            -1                -1             -1   \n",
      "1                        1            -1                 0              1   \n",
      "2                        1            -1                -1             -1   \n",
      "3                        1            -1                -1             -1   \n",
      "4                        1            -1                 1              1   \n",
      "\n",
      "  Domain_registeration_length Favicon  ... popUpWidnow Iframe age_of_domain  \\\n",
      "0                          -1       1  ...           1      1            -1   \n",
      "1                          -1       1  ...           1      1            -1   \n",
      "2                          -1       1  ...           1      1             1   \n",
      "3                           1       1  ...           1      1            -1   \n",
      "4                          -1       1  ...          -1      1            -1   \n",
      "\n",
      "  DNSRecord web_traffic Page_Rank Google_Index Links_pointing_to_page  \\\n",
      "0        -1          -1        -1            1                      1   \n",
      "1        -1           0        -1            1                      1   \n",
      "2        -1           1        -1            1                      0   \n",
      "3        -1           1        -1            1                     -1   \n",
      "4        -1           0        -1            1                      1   \n",
      "\n",
      "  Statistical_report Result  \n",
      "0                 -1     -1  \n",
      "1                  1     -1  \n",
      "2                 -1     -1  \n",
      "3                  1     -1  \n",
      "4                  1      1  \n",
      "\n",
      "[5 rows x 31 columns]\n"
     ]
    }
   ],
   "source": [
    "phishing_data = fetch_openml(name=\"PhishingWebsites\", version=1, as_frame=True)\n",
    "df = phishing_data.frame\n",
    "print(df.head())  "
   ]
  },
  {
   "cell_type": "code",
   "execution_count": 129,
   "metadata": {},
   "outputs": [
    {
     "name": "stdout",
     "output_type": "stream",
     "text": [
      "having_IP_Address              category\n",
      "URL_Length                     category\n",
      "Shortining_Service             category\n",
      "having_At_Symbol               category\n",
      "double_slash_redirecting       category\n",
      "Prefix_Suffix                  category\n",
      "having_Sub_Domain              category\n",
      "SSLfinal_State                 category\n",
      "Domain_registeration_length    category\n",
      "Favicon                        category\n",
      "port                           category\n",
      "HTTPS_token                    category\n",
      "Request_URL                    category\n",
      "URL_of_Anchor                  category\n",
      "Links_in_tags                  category\n",
      "SFH                            category\n",
      "Submitting_to_email            category\n",
      "Abnormal_URL                   category\n",
      "Redirect                       category\n",
      "on_mouseover                   category\n",
      "RightClick                     category\n",
      "popUpWidnow                    category\n",
      "Iframe                         category\n",
      "age_of_domain                  category\n",
      "DNSRecord                      category\n",
      "web_traffic                    category\n",
      "Page_Rank                      category\n",
      "Google_Index                   category\n",
      "Links_pointing_to_page         category\n",
      "Statistical_report             category\n",
      "dtype: object\n"
     ]
    }
   ],
   "source": [
    "print(X.dtypes)  # Check data types\n"
   ]
  },
  {
   "cell_type": "code",
   "execution_count": 130,
   "metadata": {},
   "outputs": [],
   "source": [
    "from sklearn.preprocessing import LabelEncoder\n",
    "\n",
    "# Example: Label encoding categorical columns\n",
    "label_encoder = LabelEncoder()\n",
    "for col in X.select_dtypes(include=['object', 'category']).columns:\n",
    "    X[col] = label_encoder.fit_transform(X[col])\n"
   ]
  },
  {
   "cell_type": "code",
   "execution_count": 131,
   "metadata": {},
   "outputs": [],
   "source": [
    "\n",
    "scaler = StandardScaler()\n",
    "X = scaler.fit_transform(X)"
   ]
  },
  {
   "cell_type": "code",
   "execution_count": 132,
   "metadata": {},
   "outputs": [
    {
     "name": "stdout",
     "output_type": "stream",
     "text": [
      "\n",
      "Class Distribution:\n",
      "Result\n",
      "1     6157\n",
      "-1    4898\n",
      "Name: count, dtype: int64\n"
     ]
    }
   ],
   "source": [
    "print(\"\\nClass Distribution:\")\n",
    "print(df['Result'].value_counts()) "
   ]
  },
  {
   "cell_type": "markdown",
   "metadata": {},
   "source": [
    "# **Data Preprocessing**"
   ]
  },
  {
   "cell_type": "code",
   "execution_count": null,
   "metadata": {},
   "outputs": [
    {
     "name": "stdout",
     "output_type": "stream",
     "text": [
      "\n",
      "Training Support Vector Machine...\n"
     ]
    }
   ],
   "source": [
    "X = df.drop(columns=['Result'])                                                                                  # F\n",
    "y = df['Result']                                                                                                    # T\n",
    "\n",
    "X_train, X_test, y_train, y_test = train_test_split(X, y, test_size=0.3, random_state=42, stratify=y)\n",
    "\n",
    "scaler = StandardScaler()\n",
    "X_train = scaler.fit_transform(X_train)\n",
    "X_test = scaler.transform(X_test)\n",
    "\n",
    "print(\"\\nTraining Support Vector Machine...\")\n",
    "svm_model = SVC(kernel='linear', random_state=42)\n",
    "svm_model.fit(X_train, y_train)\n",
    "svm_predictions = svm_model.predict(X_test)\n"
   ]
  },
  {
   "cell_type": "code",
   "execution_count": 134,
   "metadata": {},
   "outputs": [
    {
     "name": "stdout",
     "output_type": "stream",
     "text": [
      "\n",
      "SVM Classification Report:\n",
      "\n",
      "Training Random Forest...\n",
      "\n",
      "Random Forest Classification Report:\n"
     ]
    }
   ],
   "source": [
    "print(\"\\nSVM Classification Report:\")\n",
    "svm_class_report = classification_report(y_test, svm_predictions, output_dict=True)\n",
    "svm_accuracy = accuracy_score(y_test, svm_predictions)\n",
    "\n",
    "print(\"\\nTraining Random Forest...\")\n",
    "rf_model = RandomForestClassifier(n_estimators=100, random_state=42)\n",
    "rf_model.fit(X_train, y_train)\n",
    "rf_predictions = rf_model.predict(X_test)\n",
    "\n",
    "print(\"\\nRandom Forest Classification Report:\")\n",
    "rf_class_report = classification_report(y_test, rf_predictions, output_dict=True)\n",
    "rf_accuracy = accuracy_score(y_test, rf_predictions)"
   ]
  },
  {
   "cell_type": "code",
   "execution_count": 135,
   "metadata": {},
   "outputs": [
    {
     "name": "stdout",
     "output_type": "stream",
     "text": [
      "\n",
      "Models saved as 'svm_phishing_model.pkl' and 'rf_phishing_model.pkl'\n"
     ]
    }
   ],
   "source": [
    "joblib.dump(svm_model, \"svm_phishing_model.pkl\")\n",
    "joblib.dump(rf_model, \"rf_phishing_model.pkl\")\n",
    "\n",
    "print(\"\\nModels saved as 'svm_phishing_model.pkl' and 'rf_phishing_model.pkl'\")"
   ]
  },
  {
   "cell_type": "code",
   "execution_count": 136,
   "metadata": {},
   "outputs": [
    {
     "name": "stdout",
     "output_type": "stream",
     "text": [
      "SVM Predictions Length: 3317\n",
      "RF Predictions Length: 3317\n",
      "y_test Length: 3317\n",
      "\n",
      "SVM Confusion Matrix:\n",
      "[[1332  138]\n",
      " [ 107 1740]]\n",
      "\n",
      "Random Forest Confusion Matrix:\n",
      "[[1409   61]\n",
      " [  34 1813]]\n"
     ]
    }
   ],
   "source": [
    "svm_predictions = svm_model.predict(X_test)\n",
    "rf_predictions = rf_model.predict(X_test)\n",
    "\n",
    "# number of predictions should match the number of samples in y_test\n",
    "print(f\"SVM Predictions Length: {len(svm_predictions)}\")\n",
    "print(f\"RF Predictions Length: {len(rf_predictions)}\")\n",
    "print(f\"y_test Length: {len(y_test)}\")\n",
    "\n",
    "# confusion matrix\n",
    "print(\"\\nSVM Confusion Matrix:\")\n",
    "print(confusion_matrix(y_test, svm_predictions))\n",
    "\n",
    "print(\"\\nRandom Forest Confusion Matrix:\")\n",
    "print(confusion_matrix(y_test, rf_predictions))\n"
   ]
  },
  {
   "cell_type": "code",
   "execution_count": 137,
   "metadata": {},
   "outputs": [
    {
     "name": "stdout",
     "output_type": "stream",
     "text": [
      "\n",
      "Confusion Matrices:\n",
      "\n",
      "Classification Results:\n",
      "                   Metric       SVM  Random Forest\n",
      "0                Accuracy  0.926138       0.971360\n",
      "1    Precision (Phishing)  0.926518       0.967449\n",
      "2       Recall (Phishing)  0.942068       0.981592\n",
      "3     F1-Score (Phishing)  0.934228       0.974469\n",
      "4  Precision (Legitimate)  0.925643       0.976438\n",
      "5     Recall (Legitimate)  0.906122       0.958503\n",
      "6   F1-Score (Legitimate)  0.915779       0.967388\n",
      "\n",
      "SVM Confusion Matrix:\n",
      "[[1332  138]\n",
      " [ 107 1740]]\n",
      "\n",
      "Random Forest Confusion Matrix:\n",
      "[[1409   61]\n",
      " [  34 1813]]\n"
     ]
    }
   ],
   "source": [
    "print(\"\\nConfusion Matrices:\")\n",
    "svm_conf_matrix = confusion_matrix(y_test, svm_predictions)\n",
    "rf_conf_matrix = confusion_matrix(y_test, rf_predictions)\n",
    "results = {\n",
    "    'Metric': ['Accuracy', 'Precision (Phishing)', 'Recall (Phishing)', 'F1-Score (Phishing)',\n",
    "               'Precision (Legitimate)', 'Recall (Legitimate)', 'F1-Score (Legitimate)'],\n",
    "    'SVM': [\n",
    "        svm_accuracy,\n",
    "        svm_class_report['1']['precision'],\n",
    "        svm_class_report['1']['recall'],\n",
    "        svm_class_report['1']['f1-score'],\n",
    "        svm_class_report['-1']['precision'],\n",
    "        svm_class_report['-1']['recall'],\n",
    "        svm_class_report['-1']['f1-score']\n",
    "    ],\n",
    "    'Random Forest': [\n",
    "        rf_accuracy,\n",
    "        rf_class_report['1']['precision'],\n",
    "        rf_class_report['1']['recall'],\n",
    "        rf_class_report['1']['f1-score'],\n",
    "        rf_class_report['-1']['precision'],\n",
    "        rf_class_report['-1']['recall'],\n",
    "        rf_class_report['-1']['f1-score']\n",
    "    ]\n",
    "}\n",
    "\n",
    "results_df = pd.DataFrame(results)\n",
    "\n",
    "print(\"\\nClassification Results:\")\n",
    "print(results_df)\n",
    "\n",
    "print(\"\\nSVM Confusion Matrix:\")\n",
    "print(svm_conf_matrix)\n",
    "\n",
    "print(\"\\nRandom Forest Confusion Matrix:\")\n",
    "print(rf_conf_matrix)"
   ]
  },
  {
   "cell_type": "code",
   "execution_count": 138,
   "metadata": {},
   "outputs": [
    {
     "name": "stdout",
     "output_type": "stream",
     "text": [
      "SVM ROC AUC: 0.98\n"
     ]
    }
   ],
   "source": [
    "svm_model = SVC(kernel='linear', probability=True, random_state=42)\n",
    "svm_model.fit(X_train, y_train)\n",
    "\n",
    "svm_probabilities = svm_model.predict_proba(X_test)[:, 1]\n",
    "svm_auc = roc_auc_score(y_test, svm_probabilities)\n",
    "print(f\"SVM ROC AUC: {svm_auc:.2f}\")"
   ]
  },
  {
   "cell_type": "code",
   "execution_count": 139,
   "metadata": {},
   "outputs": [
    {
     "name": "stdout",
     "output_type": "stream",
     "text": [
      "SVM Accuracy: 92.61%\n",
      "Random Forest Accuracy: 97.14%\n"
     ]
    }
   ],
   "source": [
    "# SVM Confusion Matrix values\n",
    "svm_TP = 1740  \n",
    "svm_TN = 1332  \n",
    "svm_FP = 138   \n",
    "svm_FN = 107   \n",
    "\n",
    "# Random Forest Confusion Matrix values\n",
    "rf_TP = 1813  \n",
    "rf_TN = 1409  \n",
    "rf_FP = 61    \n",
    "rf_FN = 34    \n",
    "\n",
    "svm_accuracy = (svm_TP + svm_TN) / (svm_TP + svm_TN + svm_FP + svm_FN)\n",
    "print(f\"SVM Accuracy: {svm_accuracy * 100:.2f}%\")\n",
    "\n",
    "rf_accuracy = (rf_TP + rf_TN) / (rf_TP + rf_TN + rf_FP + rf_FN)\n",
    "print(f\"Random Forest Accuracy: {rf_accuracy * 100:.2f}%\")\n"
   ]
  },
  {
   "cell_type": "markdown",
   "metadata": {},
   "source": [
    "# **confusion matrix for SVM**"
   ]
  },
  {
   "cell_type": "code",
   "execution_count": 140,
   "metadata": {},
   "outputs": [
    {
     "data": {
      "image/png": "[encoded data removed]",
      "text/plain": [
       "<Figure size 800x600 with 2 Axes>"
      ]
     },
     "metadata": {},
     "output_type": "display_data"
    }
   ],
   "source": [
    "\n",
    "plt.figure(figsize=(8,6))\n",
    "sns.heatmap(confusion_matrix(y_test, svm_predictions), annot=True, fmt=\"d\", cmap=\"Blues\", xticklabels=[\"Phishing\", \"Legitimate\"], yticklabels=[\"Phishing\", \"Legitimate\"])\n",
    "plt.title(\"SVM Confusion Matrix\")\n",
    "plt.ylabel(\"True Labels\")\n",
    "plt.xlabel(\"Predicted Labels\")\n",
    "plt.show()"
   ]
  },
  {
   "cell_type": "markdown",
   "metadata": {},
   "source": [
    "# **confusion matrix for Random Forest**"
   ]
  },
  {
   "cell_type": "code",
   "execution_count": 141,
   "metadata": {},
   "outputs": [
    {
     "data": {
      "image/png": "[encoded data removed]",
      "text/plain": [
       "<Figure size 800x600 with 2 Axes>"
      ]
     },
     "metadata": {},
     "output_type": "display_data"
    }
   ],
   "source": [
    "plt.figure(figsize=(8,6))\n",
    "sns.heatmap(confusion_matrix(y_test, rf_predictions), annot=True, fmt=\"d\", cmap=\"Blues\", xticklabels=[\"Phishing\", \"Legitimate\"], yticklabels=[\"Phishing\", \"Legitimate\"])\n",
    "plt.title(\"Random Forest Confusion Matrix\")\n",
    "plt.ylabel(\"True Labels\")\n",
    "plt.xlabel(\"Predicted Labels\")\n",
    "plt.show()"
   ]
  },
  {
   "cell_type": "code",
   "execution_count": 142,
   "metadata": {},
   "outputs": [
    {
     "data": {
      "image/png": "[encoded data removed]",
      "text/plain": [
       "<Figure size 1000x600 with 1 Axes>"
      ]
     },
     "metadata": {},
     "output_type": "display_data"
    }
   ],
   "source": [
    "feature_importances = rf_model.feature_importances_\n",
    "feature_names = X.columns\n",
    "\n",
    "# Create a DataFrame for feature importances\n",
    "importance_df = pd.DataFrame({'Feature': feature_names, 'Importance': feature_importances})\n",
    "importance_df = importance_df.sort_values(by='Importance', ascending=False)\n",
    "\n",
    "# Select top 5 features\n",
    "top_features = importance_df.head(5)\n",
    "\n",
    "# Plot the top 5 features\n",
    "plt.figure(figsize=(10, 6))\n",
    "plt.barh(top_features['Feature'], top_features['Importance'], color='skyblue')\n",
    "plt.xlabel('Feature Importance')\n",
    "plt.ylabel('Features')\n",
    "plt.title('Top 5 Features by Importance (Random Forest)')\n",
    "plt.gca().invert_yaxis()  # Invert y-axis for better readability\n",
    "plt.show()"
   ]
  }
 ],
 "metadata": {
  "kernelspec": {
   "display_name": "Python 3",
   "language": "python",
   "name": "python3"
  },
  "language_info": {
   "codemirror_mode": {
    "name": "ipython",
    "version": 3
   },
   "file_extension": ".py",
   "mimetype": "text/x-python",
   "name": "python",
   "nbconvert_exporter": "python",
   "pygments_lexer": "ipython3",
   "version": "3.12.8"
  }
 },
 "nbformat": 4,
 "nbformat_minor": 2
}
